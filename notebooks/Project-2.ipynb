{
  "nbformat": 4,
  "nbformat_minor": 0,
  "metadata": {
    "colab": {
      "name": "Project",
      "provenance": [],
      "collapsed_sections": []
    },
    "kernelspec": {
      "name": "python3",
      "display_name": "Python 3"
    }
  },
  "cells": [
    {
      "cell_type": "code",
      "metadata": {
        "id": "iT_LcCCkWPM1"
      },
      "source": [
        "!pip install shap"
      ],
      "execution_count": null,
      "outputs": []
    },
    {
      "cell_type": "code",
      "metadata": {
        "id": "wM0ChIkGuVAp"
      },
      "source": [
        "import pandas as pd\n",
        "import numpy as np\n",
        "import seaborn as sns\n",
        "import shap"
      ],
      "execution_count": null,
      "outputs": []
    },
    {
      "cell_type": "code",
      "metadata": {
        "id": "Axrrjy6eTUf9"
      },
      "source": [
        "#Import from Github raw url\n",
        "\n",
        "df = pd.read_csv('https://raw.githubusercontent.com/RomyMorsy/Project1/master/breast_cancer_dataset.csv')"
      ],
      "execution_count": null,
      "outputs": []
    },
    {
      "cell_type": "code",
      "metadata": {
        "id": "Zu3zybkvTer4",
        "colab": {
          "base_uri": "https://localhost:8080/",
          "height": 102
        },
        "outputId": "973f9360-cba7-493c-ac19-a6908b9215e5"
      },
      "source": [
        "df.columns"
      ],
      "execution_count": null,
      "outputs": [
        {
          "output_type": "execute_result",
          "data": {
            "text/plain": [
              "Index(['clump_thickness', 'uniformity_of_cell_size',\n",
              "       'uniformity_of_cell_shape', 'marginal_adhesion',\n",
              "       'single_epithelial_cell_size', 'bare_nuclei', 'bland_chromatin',\n",
              "       'normal_nucleoli', 'mitosis', 'class'],\n",
              "      dtype='object')"
            ]
          },
          "metadata": {
            "tags": []
          },
          "execution_count": 3
        }
      ]
    },
    {
      "cell_type": "code",
      "metadata": {
        "id": "1eLOlsC4Tawb",
        "colab": {
          "base_uri": "https://localhost:8080/",
          "height": 369
        },
        "outputId": "2e868723-fc0b-4d61-f799-d0776dd7d6dc"
      },
      "source": [
        "fig = sns.lmplot('clump_thickness','single_epithelial_cell_size',data=df,hue='class');\n",
        "fig.savefig('output.jpg')"
      ],
      "execution_count": null,
      "outputs": [
        {
          "output_type": "display_data",
          "data": {
            "image/png": "[encoded data removed]",
            "text/plain": [
              "<Figure size 402.375x360 with 1 Axes>"
            ]
          },
          "metadata": {
            "tags": []
          }
        }
      ]
    },
    {
      "cell_type": "code",
      "metadata": {
        "id": "hghg-KK1qpdD"
      },
      "source": [
        "from PIL import Image\n",
        "image = Image.open(\"/content/output.jpg\")\n"
      ],
      "execution_count": null,
      "outputs": []
    },
    {
      "cell_type": "markdown",
      "metadata": {
        "id": "NYD4WrBBXLOs"
      },
      "source": [
        "### Based on the graph up above, it looks like the problem that the model we will be using will be some sort of cluster classification problem."
      ]
    },
    {
      "cell_type": "code",
      "metadata": {
        "id": "edwYBNPuT3qO",
        "colab": {
          "base_uri": "https://localhost:8080/",
          "height": 34
        },
        "outputId": "412e2a92-05da-410a-8b38-89f5beb42f94"
      },
      "source": [
        "#The majority class estimation based on using the entire dataset and using the \n",
        "#mode as the majority baseline since this is a classification problem\n",
        "majority_class = df['class'].mode()\n",
        "y_pred = [majority_class]*len(df)\n",
        "\n",
        "from sklearn.metrics import accuracy_score\n",
        "accuracy_score(df['class'],y_pred)"
      ],
      "execution_count": null,
      "outputs": [
        {
          "output_type": "execute_result",
          "data": {
            "text/plain": [
              "0.6344463971880492"
            ]
          },
          "metadata": {
            "tags": []
          },
          "execution_count": 8
        }
      ]
    },
    {
      "cell_type": "code",
      "metadata": {
        "id": "M_pgiLfRYiXz",
        "colab": {
          "base_uri": "https://localhost:8080/",
          "height": 34
        },
        "outputId": "eec64a6c-5119-445c-b15f-a5dfca75a3f5"
      },
      "source": [
        "from sklearn.model_selection import train_test_split\n",
        "\n",
        "target = 'class'\n",
        "X_train = df.drop(target,axis=1)\n",
        "y_train = df[target]\n",
        "\n",
        "\n",
        "X_train,X_val,y_train,y_val = train_test_split(\n",
        "                                X_train,y_train,train_size=0.75,test_size=0.25,\n",
        "                                stratify=y_train,random_state=42)\n",
        "X_train.shape,X_val.shape,y_train.shape,y_val.shape"
      ],
      "execution_count": null,
      "outputs": [
        {
          "output_type": "execute_result",
          "data": {
            "text/plain": [
              "((426, 9), (143, 9), (426,), (143,))"
            ]
          },
          "metadata": {
            "tags": []
          },
          "execution_count": 9
        }
      ]
    },
    {
      "cell_type": "code",
      "metadata": {
        "id": "pXkFCsoWZmh0",
        "colab": {
          "base_uri": "https://localhost:8080/",
          "height": 187
        },
        "outputId": "72a13733-87e8-4a84-8b0e-5c47aeb5d0f0"
      },
      "source": [
        "from sklearn.linear_model import LogisticRegression\n",
        "from sklearn.pipeline import make_pipeline\n",
        "pipeline = make_pipeline(\n",
        "\n",
        "  LogisticRegression(solver='lbfgs',multi_class = 'auto',max_iter=10000)\n",
        ")\n",
        "pipeline.fit(X_train,y_train)"
      ],
      "execution_count": null,
      "outputs": [
        {
          "output_type": "execute_result",
          "data": {
            "text/plain": [
              "Pipeline(memory=None,\n",
              "         steps=[('logisticregression',\n",
              "                 LogisticRegression(C=1.0, class_weight=None, dual=False,\n",
              "                                    fit_intercept=True, intercept_scaling=1,\n",
              "                                    l1_ratio=None, max_iter=10000,\n",
              "                                    multi_class='auto', n_jobs=None,\n",
              "                                    penalty='l2', random_state=None,\n",
              "                                    solver='lbfgs', tol=0.0001, verbose=0,\n",
              "                                    warm_start=False))],\n",
              "         verbose=False)"
            ]
          },
          "metadata": {
            "tags": []
          },
          "execution_count": 10
        }
      ]
    },
    {
      "cell_type": "code",
      "metadata": {
        "id": "4V06qbx8ZydU",
        "colab": {
          "base_uri": "https://localhost:8080/",
          "height": 34
        },
        "outputId": "9d13a98f-0d97-4c42-9c3b-98d8c10a9182"
      },
      "source": [
        "y_pred = pipeline.predict(X_val)\n",
        "accuracy_score(y_val,y_pred)\n"
      ],
      "execution_count": null,
      "outputs": [
        {
          "output_type": "execute_result",
          "data": {
            "text/plain": [
              "0.965034965034965"
            ]
          },
          "metadata": {
            "tags": []
          },
          "execution_count": 11
        }
      ]
    },
    {
      "cell_type": "code",
      "metadata": {
        "id": "a5xv36eTxalh",
        "colab": {
          "base_uri": "https://localhost:8080/",
          "height": 34
        },
        "outputId": "ea5b677c-ea23-4ded-f146-66b95bac8a7b"
      },
      "source": [
        "from joblib import dump\n",
        "dump(pipeline,'pipeline.joblib')"
      ],
      "execution_count": null,
      "outputs": [
        {
          "output_type": "execute_result",
          "data": {
            "text/plain": [
              "['pipeline.joblib']"
            ]
          },
          "metadata": {
            "tags": []
          },
          "execution_count": 16
        }
      ]
    },
    {
      "cell_type": "code",
      "metadata": {
        "id": "e--qRPhEqIiH"
      },
      "source": [
        "X_val.head()"
      ],
      "execution_count": null,
      "outputs": []
    },
    {
      "cell_type": "code",
      "metadata": {
        "id": "w48MVaLjWWWy"
      },
      "source": [
        "shap.initjs()\n",
        "shap.force_plot(base_value=2,shap_values=y_pred,feature_names=X_train.columns)"
      ],
      "execution_count": null,
      "outputs": []
    }
  ]
}